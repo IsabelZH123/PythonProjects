{
  "nbformat": 4,
  "nbformat_minor": 0,
  "metadata": {
    "colab": {
      "name": "COVID19_DATA_ANALYSIS_CLASS (1).ipynb",
      "provenance": [],
      "collapsed_sections": [],
      "toc_visible": true,
      "include_colab_link": true
    },
    "kernelspec": {
      "name": "python3",
      "display_name": "Python 3"
    }
  },
  "cells": [
    {
      "cell_type": "markdown",
      "metadata": {
        "id": "view-in-github",
        "colab_type": "text"
      },
      "source": [
        "<a href=\"https://colab.research.google.com/github/IsabelZH123/PythonProjects/blob/main/COVID19_DATA_ANALYSIS_CLASS_(1).ipynb\" target=\"_parent\"><img src=\"https://colab.research.google.com/assets/colab-badge.svg\" alt=\"Open In Colab\"/></a>"
      ]
    },
    {
      "cell_type": "markdown",
      "metadata": {
        "id": "9jvXpX2bbIFF"
      },
      "source": [
        "# COVID 19 Data Analysis"
      ]
    },
    {
      "cell_type": "markdown",
      "metadata": {
        "id": "RSvGZmxBa_Gk"
      },
      "source": [
        "**Description:** This script will read the latest data from the New York Times' county-level COVID-19 database at https://github.com/nytimes/covid-19-data/blob/master/us-counties.csv, filter the data for a chosen county in a chosen state, calculate the daily count of new cases and new deaths, print the most recent 28 days' worth of data for the selected county, and save the county's data for all dates to a comma-separated value (.csv) file on your computer. The printed data can be copied and pasted directly into a spreadsheet for further analysis and visualization.\n",
        "\n",
        "**Note:** For information about the data, see https://github.com/nytimes/covid-19-data.\n",
        "\n",
        "**Note:** After you have run the script one time in a given Anaconda environment, you may reduce the script's execution time by adding a `#` in front of `pip install pandas`. For example, `#pip install pandas` instead of `pip install pandas`. The `#` will tell Python to skip the code without running it."
      ]
    },
    {
      "cell_type": "markdown",
      "metadata": {
        "id": "ji_HknaobZJh"
      },
      "source": [
        "# Task 1 : Environment Set up"
      ]
    },
    {
      "cell_type": "code",
      "source": [
        "import pandas as pd\n",
        "import seaborn as sns\n",
        "df = pd.read_csv('https://raw.githubusercontent.com/nytimes/covid-19-data/master/us-counties.csv')\n",
        "\n",
        "df.info()\n",
        "\n",
        "df.head(10)\n",
        "\n",
        "\n",
        "\n",
        "\n"
      ],
      "metadata": {
        "colab": {
          "base_uri": "https://localhost:8080/",
          "height": 589
        },
        "id": "Cy_qKrJDv2lA",
        "outputId": "2e8f565a-06b3-4425-9e81-a97da7e690c9"
      },
      "execution_count": null,
      "outputs": [
        {
          "output_type": "stream",
          "name": "stdout",
          "text": [
            "<class 'pandas.core.frame.DataFrame'>\n",
            "RangeIndex: 2115631 entries, 0 to 2115630\n",
            "Data columns (total 6 columns):\n",
            " #   Column  Dtype  \n",
            "---  ------  -----  \n",
            " 0   date    object \n",
            " 1   county  object \n",
            " 2   state   object \n",
            " 3   fips    float64\n",
            " 4   cases   int64  \n",
            " 5   deaths  float64\n",
            "dtypes: float64(2), int64(1), object(3)\n",
            "memory usage: 96.8+ MB\n"
          ]
        },
        {
          "output_type": "execute_result",
          "data": {
            "text/html": [
              "\n",
              "  <div id=\"df-3cf03ab0-19f0-4870-84c5-42c6c34f7596\">\n",
              "    <div class=\"colab-df-container\">\n",
              "      <div>\n",
              "<style scoped>\n",
              "    .dataframe tbody tr th:only-of-type {\n",
              "        vertical-align: middle;\n",
              "    }\n",
              "\n",
              "    .dataframe tbody tr th {\n",
              "        vertical-align: top;\n",
              "    }\n",
              "\n",
              "    .dataframe thead th {\n",
              "        text-align: right;\n",
              "    }\n",
              "</style>\n",
              "<table border=\"1\" class=\"dataframe\">\n",
              "  <thead>\n",
              "    <tr style=\"text-align: right;\">\n",
              "      <th></th>\n",
              "      <th>date</th>\n",
              "      <th>county</th>\n",
              "      <th>state</th>\n",
              "      <th>fips</th>\n",
              "      <th>cases</th>\n",
              "      <th>deaths</th>\n",
              "    </tr>\n",
              "  </thead>\n",
              "  <tbody>\n",
              "    <tr>\n",
              "      <th>0</th>\n",
              "      <td>2020-01-21</td>\n",
              "      <td>Snohomish</td>\n",
              "      <td>Washington</td>\n",
              "      <td>53061.0</td>\n",
              "      <td>1</td>\n",
              "      <td>0.0</td>\n",
              "    </tr>\n",
              "    <tr>\n",
              "      <th>1</th>\n",
              "      <td>2020-01-22</td>\n",
              "      <td>Snohomish</td>\n",
              "      <td>Washington</td>\n",
              "      <td>53061.0</td>\n",
              "      <td>1</td>\n",
              "      <td>0.0</td>\n",
              "    </tr>\n",
              "    <tr>\n",
              "      <th>2</th>\n",
              "      <td>2020-01-23</td>\n",
              "      <td>Snohomish</td>\n",
              "      <td>Washington</td>\n",
              "      <td>53061.0</td>\n",
              "      <td>1</td>\n",
              "      <td>0.0</td>\n",
              "    </tr>\n",
              "    <tr>\n",
              "      <th>3</th>\n",
              "      <td>2020-01-24</td>\n",
              "      <td>Cook</td>\n",
              "      <td>Illinois</td>\n",
              "      <td>17031.0</td>\n",
              "      <td>1</td>\n",
              "      <td>0.0</td>\n",
              "    </tr>\n",
              "    <tr>\n",
              "      <th>4</th>\n",
              "      <td>2020-01-24</td>\n",
              "      <td>Snohomish</td>\n",
              "      <td>Washington</td>\n",
              "      <td>53061.0</td>\n",
              "      <td>1</td>\n",
              "      <td>0.0</td>\n",
              "    </tr>\n",
              "    <tr>\n",
              "      <th>5</th>\n",
              "      <td>2020-01-25</td>\n",
              "      <td>Orange</td>\n",
              "      <td>California</td>\n",
              "      <td>6059.0</td>\n",
              "      <td>1</td>\n",
              "      <td>0.0</td>\n",
              "    </tr>\n",
              "    <tr>\n",
              "      <th>6</th>\n",
              "      <td>2020-01-25</td>\n",
              "      <td>Cook</td>\n",
              "      <td>Illinois</td>\n",
              "      <td>17031.0</td>\n",
              "      <td>1</td>\n",
              "      <td>0.0</td>\n",
              "    </tr>\n",
              "    <tr>\n",
              "      <th>7</th>\n",
              "      <td>2020-01-25</td>\n",
              "      <td>Snohomish</td>\n",
              "      <td>Washington</td>\n",
              "      <td>53061.0</td>\n",
              "      <td>1</td>\n",
              "      <td>0.0</td>\n",
              "    </tr>\n",
              "    <tr>\n",
              "      <th>8</th>\n",
              "      <td>2020-01-26</td>\n",
              "      <td>Maricopa</td>\n",
              "      <td>Arizona</td>\n",
              "      <td>4013.0</td>\n",
              "      <td>1</td>\n",
              "      <td>0.0</td>\n",
              "    </tr>\n",
              "    <tr>\n",
              "      <th>9</th>\n",
              "      <td>2020-01-26</td>\n",
              "      <td>Los Angeles</td>\n",
              "      <td>California</td>\n",
              "      <td>6037.0</td>\n",
              "      <td>1</td>\n",
              "      <td>0.0</td>\n",
              "    </tr>\n",
              "  </tbody>\n",
              "</table>\n",
              "</div>\n",
              "      <button class=\"colab-df-convert\" onclick=\"convertToInteractive('df-3cf03ab0-19f0-4870-84c5-42c6c34f7596')\"\n",
              "              title=\"Convert this dataframe to an interactive table.\"\n",
              "              style=\"display:none;\">\n",
              "        \n",
              "  <svg xmlns=\"http://www.w3.org/2000/svg\" height=\"24px\"viewBox=\"0 0 24 24\"\n",
              "       width=\"24px\">\n",
              "    <path d=\"M0 0h24v24H0V0z\" fill=\"none\"/>\n",
              "    <path d=\"M18.56 5.44l.94 2.06.94-2.06 2.06-.94-2.06-.94-.94-2.06-.94 2.06-2.06.94zm-11 1L8.5 8.5l.94-2.06 2.06-.94-2.06-.94L8.5 2.5l-.94 2.06-2.06.94zm10 10l.94 2.06.94-2.06 2.06-.94-2.06-.94-.94-2.06-.94 2.06-2.06.94z\"/><path d=\"M17.41 7.96l-1.37-1.37c-.4-.4-.92-.59-1.43-.59-.52 0-1.04.2-1.43.59L10.3 9.45l-7.72 7.72c-.78.78-.78 2.05 0 2.83L4 21.41c.39.39.9.59 1.41.59.51 0 1.02-.2 1.41-.59l7.78-7.78 2.81-2.81c.8-.78.8-2.07 0-2.86zM5.41 20L4 18.59l7.72-7.72 1.47 1.35L5.41 20z\"/>\n",
              "  </svg>\n",
              "      </button>\n",
              "      \n",
              "  <style>\n",
              "    .colab-df-container {\n",
              "      display:flex;\n",
              "      flex-wrap:wrap;\n",
              "      gap: 12px;\n",
              "    }\n",
              "\n",
              "    .colab-df-convert {\n",
              "      background-color: #E8F0FE;\n",
              "      border: none;\n",
              "      border-radius: 50%;\n",
              "      cursor: pointer;\n",
              "      display: none;\n",
              "      fill: #1967D2;\n",
              "      height: 32px;\n",
              "      padding: 0 0 0 0;\n",
              "      width: 32px;\n",
              "    }\n",
              "\n",
              "    .colab-df-convert:hover {\n",
              "      background-color: #E2EBFA;\n",
              "      box-shadow: 0px 1px 2px rgba(60, 64, 67, 0.3), 0px 1px 3px 1px rgba(60, 64, 67, 0.15);\n",
              "      fill: #174EA6;\n",
              "    }\n",
              "\n",
              "    [theme=dark] .colab-df-convert {\n",
              "      background-color: #3B4455;\n",
              "      fill: #D2E3FC;\n",
              "    }\n",
              "\n",
              "    [theme=dark] .colab-df-convert:hover {\n",
              "      background-color: #434B5C;\n",
              "      box-shadow: 0px 1px 3px 1px rgba(0, 0, 0, 0.15);\n",
              "      filter: drop-shadow(0px 1px 2px rgba(0, 0, 0, 0.3));\n",
              "      fill: #FFFFFF;\n",
              "    }\n",
              "  </style>\n",
              "\n",
              "      <script>\n",
              "        const buttonEl =\n",
              "          document.querySelector('#df-3cf03ab0-19f0-4870-84c5-42c6c34f7596 button.colab-df-convert');\n",
              "        buttonEl.style.display =\n",
              "          google.colab.kernel.accessAllowed ? 'block' : 'none';\n",
              "\n",
              "        async function convertToInteractive(key) {\n",
              "          const element = document.querySelector('#df-3cf03ab0-19f0-4870-84c5-42c6c34f7596');\n",
              "          const dataTable =\n",
              "            await google.colab.kernel.invokeFunction('convertToInteractive',\n",
              "                                                     [key], {});\n",
              "          if (!dataTable) return;\n",
              "\n",
              "          const docLinkHtml = 'Like what you see? Visit the ' +\n",
              "            '<a target=\"_blank\" href=https://colab.research.google.com/notebooks/data_table.ipynb>data table notebook</a>'\n",
              "            + ' to learn more about interactive tables.';\n",
              "          element.innerHTML = '';\n",
              "          dataTable['output_type'] = 'display_data';\n",
              "          await google.colab.output.renderOutput(dataTable, element);\n",
              "          const docLink = document.createElement('div');\n",
              "          docLink.innerHTML = docLinkHtml;\n",
              "          element.appendChild(docLink);\n",
              "        }\n",
              "      </script>\n",
              "    </div>\n",
              "  </div>\n",
              "  "
            ],
            "text/plain": [
              "         date       county       state     fips  cases  deaths\n",
              "0  2020-01-21    Snohomish  Washington  53061.0      1     0.0\n",
              "1  2020-01-22    Snohomish  Washington  53061.0      1     0.0\n",
              "2  2020-01-23    Snohomish  Washington  53061.0      1     0.0\n",
              "3  2020-01-24         Cook    Illinois  17031.0      1     0.0\n",
              "4  2020-01-24    Snohomish  Washington  53061.0      1     0.0\n",
              "5  2020-01-25       Orange  California   6059.0      1     0.0\n",
              "6  2020-01-25         Cook    Illinois  17031.0      1     0.0\n",
              "7  2020-01-25    Snohomish  Washington  53061.0      1     0.0\n",
              "8  2020-01-26     Maricopa     Arizona   4013.0      1     0.0\n",
              "9  2020-01-26  Los Angeles  California   6037.0      1     0.0"
            ]
          },
          "metadata": {},
          "execution_count": 14
        }
      ]
    },
    {
      "cell_type": "code",
      "source": [
        "df.shape"
      ],
      "metadata": {
        "colab": {
          "base_uri": "https://localhost:8080/"
        },
        "id": "h9tBXFeHwC3d",
        "outputId": "12255abc-1071-48f5-e687-029faad666a4"
      },
      "execution_count": null,
      "outputs": [
        {
          "output_type": "execute_result",
          "data": {
            "text/plain": [
              "(2115631, 6)"
            ]
          },
          "metadata": {},
          "execution_count": 10
        }
      ]
    },
    {
      "cell_type": "code",
      "source": [
        ""
      ],
      "metadata": {
        "colab": {
          "base_uri": "https://localhost:8080/",
          "height": 296
        },
        "id": "ulwX-qJWzuXY",
        "outputId": "4fe1756d-c9b7-48b0-dea1-0d13437786ae"
      },
      "execution_count": null,
      "outputs": [
        {
          "output_type": "execute_result",
          "data": {
            "text/plain": [
              "<matplotlib.axes._subplots.AxesSubplot at 0x7f7cda469790>"
            ]
          },
          "metadata": {},
          "execution_count": 22
        },
        {
          "output_type": "display_data",
          "data": {
            "image/png": "[encoded data removed]",
            "text/plain": [
              "<Figure size 432x288 with 1 Axes>"
            ]
          },
          "metadata": {
            "needs_background": "light"
          }
        }
      ]
    },
    {
      "cell_type": "markdown",
      "metadata": {
        "id": "q2y0bY0XbhNZ"
      },
      "source": [
        ":Import all required libraries that are needed for data analysis"
      ]
    },
    {
      "cell_type": "markdown",
      "metadata": {
        "id": "vgt8s61dbueM"
      },
      "source": [
        "# Task 2 :  Data Collection"
      ]
    },
    {
      "cell_type": "code",
      "source": [
        "florida = df[(df['state'] == 'Florida') & (df['county']== 'Walton')]\n",
        "florida_28days_cases = florida.groupby('date')['cases'].sum()\n",
        "florida_28days_cases.tail(28)\n",
        "\n"
      ],
      "metadata": {
        "id": "s2Wq3cNRurDo",
        "colab": {
          "base_uri": "https://localhost:8080/"
        },
        "outputId": "eae7e230-60d2-45a8-a8f4-e3602d397f67"
      },
      "execution_count": 9,
      "outputs": [
        {
          "output_type": "execute_result",
          "data": {
            "text/plain": [
              "date\n",
              "2021-12-25    12212\n",
              "2021-12-26    12212\n",
              "2021-12-27    12212\n",
              "2021-12-28    12212\n",
              "2021-12-29    12212\n",
              "2021-12-30    12212\n",
              "2021-12-31    12464\n",
              "2022-01-01    12464\n",
              "2022-01-02    12464\n",
              "2022-01-03    12464\n",
              "2022-01-04    12464\n",
              "2022-01-05    12464\n",
              "2022-01-06    12464\n",
              "2022-01-07    13037\n",
              "2022-01-08    13037\n",
              "2022-01-09    13037\n",
              "2022-01-10    13037\n",
              "2022-01-11    13037\n",
              "2022-01-12    13037\n",
              "2022-01-13    13037\n",
              "2022-01-14    13923\n",
              "2022-01-15    13923\n",
              "2022-01-16    13923\n",
              "2022-01-17    13923\n",
              "2022-01-18    13923\n",
              "2022-01-19    13923\n",
              "2022-01-20    13923\n",
              "2022-01-21    14760\n",
              "Name: cases, dtype: int64"
            ]
          },
          "metadata": {},
          "execution_count": 9
        }
      ]
    },
    {
      "cell_type": "code",
      "source": [
        "florida.tail(28)"
      ],
      "metadata": {
        "colab": {
          "base_uri": "https://localhost:8080/",
          "height": 927
        },
        "id": "-qRqvnqNG6c7",
        "outputId": "77e2534e-81bd-480c-92a7-d06cdf3cb2be"
      },
      "execution_count": 10,
      "outputs": [
        {
          "output_type": "execute_result",
          "data": {
            "text/html": [
              "\n",
              "  <div id=\"df-f16a4f52-a26f-46e9-a303-1c4ad0acbaac\">\n",
              "    <div class=\"colab-df-container\">\n",
              "      <div>\n",
              "<style scoped>\n",
              "    .dataframe tbody tr th:only-of-type {\n",
              "        vertical-align: middle;\n",
              "    }\n",
              "\n",
              "    .dataframe tbody tr th {\n",
              "        vertical-align: top;\n",
              "    }\n",
              "\n",
              "    .dataframe thead th {\n",
              "        text-align: right;\n",
              "    }\n",
              "</style>\n",
              "<table border=\"1\" class=\"dataframe\">\n",
              "  <thead>\n",
              "    <tr style=\"text-align: right;\">\n",
              "      <th></th>\n",
              "      <th>date</th>\n",
              "      <th>county</th>\n",
              "      <th>state</th>\n",
              "      <th>fips</th>\n",
              "      <th>cases</th>\n",
              "      <th>deaths</th>\n",
              "    </tr>\n",
              "  </thead>\n",
              "  <tbody>\n",
              "    <tr>\n",
              "      <th>2047750</th>\n",
              "      <td>2021-12-25</td>\n",
              "      <td>Walton</td>\n",
              "      <td>Florida</td>\n",
              "      <td>12131.0</td>\n",
              "      <td>12212</td>\n",
              "      <td>172.0</td>\n",
              "    </tr>\n",
              "    <tr>\n",
              "      <th>2051000</th>\n",
              "      <td>2021-12-26</td>\n",
              "      <td>Walton</td>\n",
              "      <td>Florida</td>\n",
              "      <td>12131.0</td>\n",
              "      <td>12212</td>\n",
              "      <td>172.0</td>\n",
              "    </tr>\n",
              "    <tr>\n",
              "      <th>2054250</th>\n",
              "      <td>2021-12-27</td>\n",
              "      <td>Walton</td>\n",
              "      <td>Florida</td>\n",
              "      <td>12131.0</td>\n",
              "      <td>12212</td>\n",
              "      <td>172.0</td>\n",
              "    </tr>\n",
              "    <tr>\n",
              "      <th>2057499</th>\n",
              "      <td>2021-12-28</td>\n",
              "      <td>Walton</td>\n",
              "      <td>Florida</td>\n",
              "      <td>12131.0</td>\n",
              "      <td>12212</td>\n",
              "      <td>172.0</td>\n",
              "    </tr>\n",
              "    <tr>\n",
              "      <th>2060748</th>\n",
              "      <td>2021-12-29</td>\n",
              "      <td>Walton</td>\n",
              "      <td>Florida</td>\n",
              "      <td>12131.0</td>\n",
              "      <td>12212</td>\n",
              "      <td>173.0</td>\n",
              "    </tr>\n",
              "    <tr>\n",
              "      <th>2063998</th>\n",
              "      <td>2021-12-30</td>\n",
              "      <td>Walton</td>\n",
              "      <td>Florida</td>\n",
              "      <td>12131.0</td>\n",
              "      <td>12212</td>\n",
              "      <td>173.0</td>\n",
              "    </tr>\n",
              "    <tr>\n",
              "      <th>2067249</th>\n",
              "      <td>2021-12-31</td>\n",
              "      <td>Walton</td>\n",
              "      <td>Florida</td>\n",
              "      <td>12131.0</td>\n",
              "      <td>12464</td>\n",
              "      <td>173.0</td>\n",
              "    </tr>\n",
              "    <tr>\n",
              "      <th>2070500</th>\n",
              "      <td>2022-01-01</td>\n",
              "      <td>Walton</td>\n",
              "      <td>Florida</td>\n",
              "      <td>12131.0</td>\n",
              "      <td>12464</td>\n",
              "      <td>173.0</td>\n",
              "    </tr>\n",
              "    <tr>\n",
              "      <th>2073751</th>\n",
              "      <td>2022-01-02</td>\n",
              "      <td>Walton</td>\n",
              "      <td>Florida</td>\n",
              "      <td>12131.0</td>\n",
              "      <td>12464</td>\n",
              "      <td>173.0</td>\n",
              "    </tr>\n",
              "    <tr>\n",
              "      <th>2077002</th>\n",
              "      <td>2022-01-03</td>\n",
              "      <td>Walton</td>\n",
              "      <td>Florida</td>\n",
              "      <td>12131.0</td>\n",
              "      <td>12464</td>\n",
              "      <td>173.0</td>\n",
              "    </tr>\n",
              "    <tr>\n",
              "      <th>2080254</th>\n",
              "      <td>2022-01-04</td>\n",
              "      <td>Walton</td>\n",
              "      <td>Florida</td>\n",
              "      <td>12131.0</td>\n",
              "      <td>12464</td>\n",
              "      <td>173.0</td>\n",
              "    </tr>\n",
              "    <tr>\n",
              "      <th>2083506</th>\n",
              "      <td>2022-01-05</td>\n",
              "      <td>Walton</td>\n",
              "      <td>Florida</td>\n",
              "      <td>12131.0</td>\n",
              "      <td>12464</td>\n",
              "      <td>174.0</td>\n",
              "    </tr>\n",
              "    <tr>\n",
              "      <th>2086758</th>\n",
              "      <td>2022-01-06</td>\n",
              "      <td>Walton</td>\n",
              "      <td>Florida</td>\n",
              "      <td>12131.0</td>\n",
              "      <td>12464</td>\n",
              "      <td>174.0</td>\n",
              "    </tr>\n",
              "    <tr>\n",
              "      <th>2090009</th>\n",
              "      <td>2022-01-07</td>\n",
              "      <td>Walton</td>\n",
              "      <td>Florida</td>\n",
              "      <td>12131.0</td>\n",
              "      <td>13037</td>\n",
              "      <td>174.0</td>\n",
              "    </tr>\n",
              "    <tr>\n",
              "      <th>2093261</th>\n",
              "      <td>2022-01-08</td>\n",
              "      <td>Walton</td>\n",
              "      <td>Florida</td>\n",
              "      <td>12131.0</td>\n",
              "      <td>13037</td>\n",
              "      <td>174.0</td>\n",
              "    </tr>\n",
              "    <tr>\n",
              "      <th>2096513</th>\n",
              "      <td>2022-01-09</td>\n",
              "      <td>Walton</td>\n",
              "      <td>Florida</td>\n",
              "      <td>12131.0</td>\n",
              "      <td>13037</td>\n",
              "      <td>174.0</td>\n",
              "    </tr>\n",
              "    <tr>\n",
              "      <th>2099764</th>\n",
              "      <td>2022-01-10</td>\n",
              "      <td>Walton</td>\n",
              "      <td>Florida</td>\n",
              "      <td>12131.0</td>\n",
              "      <td>13037</td>\n",
              "      <td>174.0</td>\n",
              "    </tr>\n",
              "    <tr>\n",
              "      <th>2103015</th>\n",
              "      <td>2022-01-11</td>\n",
              "      <td>Walton</td>\n",
              "      <td>Florida</td>\n",
              "      <td>12131.0</td>\n",
              "      <td>13037</td>\n",
              "      <td>174.0</td>\n",
              "    </tr>\n",
              "    <tr>\n",
              "      <th>2106266</th>\n",
              "      <td>2022-01-12</td>\n",
              "      <td>Walton</td>\n",
              "      <td>Florida</td>\n",
              "      <td>12131.0</td>\n",
              "      <td>13037</td>\n",
              "      <td>176.0</td>\n",
              "    </tr>\n",
              "    <tr>\n",
              "      <th>2109517</th>\n",
              "      <td>2022-01-13</td>\n",
              "      <td>Walton</td>\n",
              "      <td>Florida</td>\n",
              "      <td>12131.0</td>\n",
              "      <td>13037</td>\n",
              "      <td>176.0</td>\n",
              "    </tr>\n",
              "    <tr>\n",
              "      <th>2112769</th>\n",
              "      <td>2022-01-14</td>\n",
              "      <td>Walton</td>\n",
              "      <td>Florida</td>\n",
              "      <td>12131.0</td>\n",
              "      <td>13923</td>\n",
              "      <td>176.0</td>\n",
              "    </tr>\n",
              "    <tr>\n",
              "      <th>2116020</th>\n",
              "      <td>2022-01-15</td>\n",
              "      <td>Walton</td>\n",
              "      <td>Florida</td>\n",
              "      <td>12131.0</td>\n",
              "      <td>13923</td>\n",
              "      <td>176.0</td>\n",
              "    </tr>\n",
              "    <tr>\n",
              "      <th>2119272</th>\n",
              "      <td>2022-01-16</td>\n",
              "      <td>Walton</td>\n",
              "      <td>Florida</td>\n",
              "      <td>12131.0</td>\n",
              "      <td>13923</td>\n",
              "      <td>176.0</td>\n",
              "    </tr>\n",
              "    <tr>\n",
              "      <th>2122524</th>\n",
              "      <td>2022-01-17</td>\n",
              "      <td>Walton</td>\n",
              "      <td>Florida</td>\n",
              "      <td>12131.0</td>\n",
              "      <td>13923</td>\n",
              "      <td>176.0</td>\n",
              "    </tr>\n",
              "    <tr>\n",
              "      <th>2125776</th>\n",
              "      <td>2022-01-18</td>\n",
              "      <td>Walton</td>\n",
              "      <td>Florida</td>\n",
              "      <td>12131.0</td>\n",
              "      <td>13923</td>\n",
              "      <td>176.0</td>\n",
              "    </tr>\n",
              "    <tr>\n",
              "      <th>2129030</th>\n",
              "      <td>2022-01-19</td>\n",
              "      <td>Walton</td>\n",
              "      <td>Florida</td>\n",
              "      <td>12131.0</td>\n",
              "      <td>13923</td>\n",
              "      <td>177.0</td>\n",
              "    </tr>\n",
              "    <tr>\n",
              "      <th>2132283</th>\n",
              "      <td>2022-01-20</td>\n",
              "      <td>Walton</td>\n",
              "      <td>Florida</td>\n",
              "      <td>12131.0</td>\n",
              "      <td>13923</td>\n",
              "      <td>177.0</td>\n",
              "    </tr>\n",
              "    <tr>\n",
              "      <th>2135536</th>\n",
              "      <td>2022-01-21</td>\n",
              "      <td>Walton</td>\n",
              "      <td>Florida</td>\n",
              "      <td>12131.0</td>\n",
              "      <td>14760</td>\n",
              "      <td>177.0</td>\n",
              "    </tr>\n",
              "  </tbody>\n",
              "</table>\n",
              "</div>\n",
              "      <button class=\"colab-df-convert\" onclick=\"convertToInteractive('df-f16a4f52-a26f-46e9-a303-1c4ad0acbaac')\"\n",
              "              title=\"Convert this dataframe to an interactive table.\"\n",
              "              style=\"display:none;\">\n",
              "        \n",
              "  <svg xmlns=\"http://www.w3.org/2000/svg\" height=\"24px\"viewBox=\"0 0 24 24\"\n",
              "       width=\"24px\">\n",
              "    <path d=\"M0 0h24v24H0V0z\" fill=\"none\"/>\n",
              "    <path d=\"M18.56 5.44l.94 2.06.94-2.06 2.06-.94-2.06-.94-.94-2.06-.94 2.06-2.06.94zm-11 1L8.5 8.5l.94-2.06 2.06-.94-2.06-.94L8.5 2.5l-.94 2.06-2.06.94zm10 10l.94 2.06.94-2.06 2.06-.94-2.06-.94-.94-2.06-.94 2.06-2.06.94z\"/><path d=\"M17.41 7.96l-1.37-1.37c-.4-.4-.92-.59-1.43-.59-.52 0-1.04.2-1.43.59L10.3 9.45l-7.72 7.72c-.78.78-.78 2.05 0 2.83L4 21.41c.39.39.9.59 1.41.59.51 0 1.02-.2 1.41-.59l7.78-7.78 2.81-2.81c.8-.78.8-2.07 0-2.86zM5.41 20L4 18.59l7.72-7.72 1.47 1.35L5.41 20z\"/>\n",
              "  </svg>\n",
              "      </button>\n",
              "      \n",
              "  <style>\n",
              "    .colab-df-container {\n",
              "      display:flex;\n",
              "      flex-wrap:wrap;\n",
              "      gap: 12px;\n",
              "    }\n",
              "\n",
              "    .colab-df-convert {\n",
              "      background-color: #E8F0FE;\n",
              "      border: none;\n",
              "      border-radius: 50%;\n",
              "      cursor: pointer;\n",
              "      display: none;\n",
              "      fill: #1967D2;\n",
              "      height: 32px;\n",
              "      padding: 0 0 0 0;\n",
              "      width: 32px;\n",
              "    }\n",
              "\n",
              "    .colab-df-convert:hover {\n",
              "      background-color: #E2EBFA;\n",
              "      box-shadow: 0px 1px 2px rgba(60, 64, 67, 0.3), 0px 1px 3px 1px rgba(60, 64, 67, 0.15);\n",
              "      fill: #174EA6;\n",
              "    }\n",
              "\n",
              "    [theme=dark] .colab-df-convert {\n",
              "      background-color: #3B4455;\n",
              "      fill: #D2E3FC;\n",
              "    }\n",
              "\n",
              "    [theme=dark] .colab-df-convert:hover {\n",
              "      background-color: #434B5C;\n",
              "      box-shadow: 0px 1px 3px 1px rgba(0, 0, 0, 0.15);\n",
              "      filter: drop-shadow(0px 1px 2px rgba(0, 0, 0, 0.3));\n",
              "      fill: #FFFFFF;\n",
              "    }\n",
              "  </style>\n",
              "\n",
              "      <script>\n",
              "        const buttonEl =\n",
              "          document.querySelector('#df-f16a4f52-a26f-46e9-a303-1c4ad0acbaac button.colab-df-convert');\n",
              "        buttonEl.style.display =\n",
              "          google.colab.kernel.accessAllowed ? 'block' : 'none';\n",
              "\n",
              "        async function convertToInteractive(key) {\n",
              "          const element = document.querySelector('#df-f16a4f52-a26f-46e9-a303-1c4ad0acbaac');\n",
              "          const dataTable =\n",
              "            await google.colab.kernel.invokeFunction('convertToInteractive',\n",
              "                                                     [key], {});\n",
              "          if (!dataTable) return;\n",
              "\n",
              "          const docLinkHtml = 'Like what you see? Visit the ' +\n",
              "            '<a target=\"_blank\" href=https://colab.research.google.com/notebooks/data_table.ipynb>data table notebook</a>'\n",
              "            + ' to learn more about interactive tables.';\n",
              "          element.innerHTML = '';\n",
              "          dataTable['output_type'] = 'display_data';\n",
              "          await google.colab.output.renderOutput(dataTable, element);\n",
              "          const docLink = document.createElement('div');\n",
              "          docLink.innerHTML = docLinkHtml;\n",
              "          element.appendChild(docLink);\n",
              "        }\n",
              "      </script>\n",
              "    </div>\n",
              "  </div>\n",
              "  "
            ],
            "text/plain": [
              "               date  county    state     fips  cases  deaths\n",
              "2047750  2021-12-25  Walton  Florida  12131.0  12212   172.0\n",
              "2051000  2021-12-26  Walton  Florida  12131.0  12212   172.0\n",
              "2054250  2021-12-27  Walton  Florida  12131.0  12212   172.0\n",
              "2057499  2021-12-28  Walton  Florida  12131.0  12212   172.0\n",
              "2060748  2021-12-29  Walton  Florida  12131.0  12212   173.0\n",
              "2063998  2021-12-30  Walton  Florida  12131.0  12212   173.0\n",
              "2067249  2021-12-31  Walton  Florida  12131.0  12464   173.0\n",
              "2070500  2022-01-01  Walton  Florida  12131.0  12464   173.0\n",
              "2073751  2022-01-02  Walton  Florida  12131.0  12464   173.0\n",
              "2077002  2022-01-03  Walton  Florida  12131.0  12464   173.0\n",
              "2080254  2022-01-04  Walton  Florida  12131.0  12464   173.0\n",
              "2083506  2022-01-05  Walton  Florida  12131.0  12464   174.0\n",
              "2086758  2022-01-06  Walton  Florida  12131.0  12464   174.0\n",
              "2090009  2022-01-07  Walton  Florida  12131.0  13037   174.0\n",
              "2093261  2022-01-08  Walton  Florida  12131.0  13037   174.0\n",
              "2096513  2022-01-09  Walton  Florida  12131.0  13037   174.0\n",
              "2099764  2022-01-10  Walton  Florida  12131.0  13037   174.0\n",
              "2103015  2022-01-11  Walton  Florida  12131.0  13037   174.0\n",
              "2106266  2022-01-12  Walton  Florida  12131.0  13037   176.0\n",
              "2109517  2022-01-13  Walton  Florida  12131.0  13037   176.0\n",
              "2112769  2022-01-14  Walton  Florida  12131.0  13923   176.0\n",
              "2116020  2022-01-15  Walton  Florida  12131.0  13923   176.0\n",
              "2119272  2022-01-16  Walton  Florida  12131.0  13923   176.0\n",
              "2122524  2022-01-17  Walton  Florida  12131.0  13923   176.0\n",
              "2125776  2022-01-18  Walton  Florida  12131.0  13923   176.0\n",
              "2129030  2022-01-19  Walton  Florida  12131.0  13923   177.0\n",
              "2132283  2022-01-20  Walton  Florida  12131.0  13923   177.0\n",
              "2135536  2022-01-21  Walton  Florida  12131.0  14760   177.0"
            ]
          },
          "metadata": {},
          "execution_count": 10
        }
      ]
    },
    {
      "cell_type": "code",
      "source": [
        "florida_cases = df[df['state']== 'Florida']\n",
        "print(\"Florida total case number: \" + str(florida_cases['cases'].sum()))\n"
      ],
      "metadata": {
        "colab": {
          "base_uri": "https://localhost:8080/"
        },
        "id": "UL7-oHRu3NAC",
        "outputId": "578b554d-be51-4c71-f4e9-d4ab16e9f5c5"
      },
      "execution_count": null,
      "outputs": [
        {
          "output_type": "stream",
          "name": "stdout",
          "text": [
            "Florida total case number: 1176258332\n"
          ]
        }
      ]
    },
    {
      "cell_type": "code",
      "source": [
        "print(\"Florida total death number: \" + str(florida_cases['deaths'].sum()))"
      ],
      "metadata": {
        "colab": {
          "base_uri": "https://localhost:8080/"
        },
        "id": "Fyl-An3o4YkV",
        "outputId": "5ac096e1-8fce-4b1c-8992-bfa82b7f7841"
      },
      "execution_count": null,
      "outputs": [
        {
          "output_type": "stream",
          "name": "stdout",
          "text": [
            "Florida total death number: 18843445.0\n"
          ]
        }
      ]
    },
    {
      "cell_type": "code",
      "source": [
        ""
      ],
      "metadata": {
        "id": "aDpptREa4PuY"
      },
      "execution_count": null,
      "outputs": []
    },
    {
      "cell_type": "markdown",
      "metadata": {
        "id": "CEc5pqrkbxcX"
      },
      "source": [
        "Use nytimes github repository as a data source to collect the covid 19 data in real time and ingest it into colab notebook for data anlysis purpose"
      ]
    },
    {
      "cell_type": "markdown",
      "metadata": {
        "id": "dXToiyPccf4h"
      },
      "source": [
        "# Task 3 : Data Wrangling and EDA (Exploratory Data Analysis)"
      ]
    },
    {
      "cell_type": "code",
      "source": [
        "sns.lineplot(data = florida, x = 'date' , y = 'cases')"
      ],
      "metadata": {
        "colab": {
          "base_uri": "https://localhost:8080/",
          "height": 296
        },
        "id": "-kB7NJOT4B_3",
        "outputId": "0ee18ee4-1d38-463c-c44c-fca0de9f265d"
      },
      "execution_count": null,
      "outputs": [
        {
          "output_type": "execute_result",
          "data": {
            "text/plain": [
              "<matplotlib.axes._subplots.AxesSubplot at 0x7f7cd8745610>"
            ]
          },
          "metadata": {},
          "execution_count": 34
        },
        {
          "output_type": "display_data",
          "data": {
            "image/png": "[encoded data removed]",
            "text/plain": [
              "<Figure size 432x288 with 1 Axes>"
            ]
          },
          "metadata": {
            "needs_background": "light"
          }
        }
      ]
    },
    {
      "cell_type": "code",
      "source": [
        "florida_max_case_data "
      ],
      "metadata": {
        "id": "QleIf7JE6uBb"
      },
      "execution_count": null,
      "outputs": []
    },
    {
      "cell_type": "code",
      "source": [
        "sns.lineplot(data = florida, x = 'date' , y = 'deaths')"
      ],
      "metadata": {
        "colab": {
          "base_uri": "https://localhost:8080/",
          "height": 296
        },
        "id": "IZi_jKXu4aJA",
        "outputId": "c142afdf-e9e3-49dd-9902-761dbed8611f"
      },
      "execution_count": null,
      "outputs": [
        {
          "output_type": "execute_result",
          "data": {
            "text/plain": [
              "<matplotlib.axes._subplots.AxesSubplot at 0x7f7cd774b3d0>"
            ]
          },
          "metadata": {},
          "execution_count": 35
        },
        {
          "output_type": "display_data",
          "data": {
            "image/png": "[encoded data removed]",
            "text/plain": [
              "<Figure size 432x288 with 1 Axes>"
            ]
          },
          "metadata": {
            "needs_background": "light"
          }
        }
      ]
    },
    {
      "cell_type": "markdown",
      "metadata": {
        "id": "IKuLfv3SF27O"
      },
      "source": [
        "# Task4: Understand NY covid 19 data in last 30 days"
      ]
    },
    {
      "cell_type": "code",
      "source": [
        "# NY covid 19 cases in last 30 days\n",
        "import pandas as pd\n",
        "import seaborn as sns\n",
        "df = pd.read_csv('https://raw.githubusercontent.com/nytimes/covid-19-data/master/us-counties.csv')\n",
        "\n",
        "ny = df[(df['state'] == 'New York') ]\n",
        "ny_case = ny.groupby(['date'])['cases'].sum()\n",
        "ny_case.tail(30).sort_values(ascending = False)\n",
        "\n"
      ],
      "metadata": {
        "colab": {
          "base_uri": "https://localhost:8080/"
        },
        "id": "2-rthZ9O-Yvh",
        "outputId": "6bd632a5-a576-4243-deef-4349fa2534a4"
      },
      "execution_count": 32,
      "outputs": [
        {
          "output_type": "execute_result",
          "data": {
            "text/plain": [
              "date\n",
              "2022-01-21    4638987\n",
              "2022-01-20    4610691\n",
              "2022-01-19    4580060\n",
              "2022-01-18    4556685\n",
              "2022-01-17    4534373\n",
              "2022-01-16    4507601\n",
              "2022-01-15    4456337\n",
              "2022-01-14    4408467\n",
              "2022-01-13    4361115\n",
              "2022-01-12    4299066\n",
              "2022-01-11    4244155\n",
              "2022-01-10    4194745\n",
              "2022-01-09    4136861\n",
              "2022-01-08    4057084\n",
              "2022-01-07    3966952\n",
              "2022-01-06    3884858\n",
              "2022-01-05    3804480\n",
              "2022-01-04    3729331\n",
              "2022-01-03    3678042\n",
              "2022-01-02    3617589\n",
              "2022-01-01    3555047\n",
              "2021-12-31    3473970\n",
              "2021-12-30    3395166\n",
              "2021-12-29    3324088\n",
              "2021-12-28    3263729\n",
              "2021-12-27    3214893\n",
              "2021-12-26    3184452\n",
              "2021-12-25    3098290\n",
              "2021-12-24    3098290\n",
              "2021-12-23    3065699\n",
              "Name: cases, dtype: int64"
            ]
          },
          "metadata": {},
          "execution_count": 32
        }
      ]
    },
    {
      "cell_type": "code",
      "source": [
        "sns.lineplot(data = ny_case.tail(30))"
      ],
      "metadata": {
        "colab": {
          "base_uri": "https://localhost:8080/",
          "height": 307
        },
        "id": "QHrW40cVJDM_",
        "outputId": "6a0f42f2-ec96-4d39-97cc-dbc92cc8dcc7"
      },
      "execution_count": 36,
      "outputs": [
        {
          "output_type": "execute_result",
          "data": {
            "text/plain": [
              "<matplotlib.axes._subplots.AxesSubplot at 0x7fafbaf50310>"
            ]
          },
          "metadata": {},
          "execution_count": 36
        },
        {
          "output_type": "display_data",
          "data": {
            "image/png": "[encoded data removed]",
            "text/plain": [
              "<Figure size 432x288 with 1 Axes>"
            ]
          },
          "metadata": {
            "needs_background": "light"
          }
        }
      ]
    },
    {
      "cell_type": "code",
      "source": [
        ""
      ],
      "metadata": {
        "id": "UYBW2K94QNMj"
      },
      "execution_count": null,
      "outputs": []
    },
    {
      "cell_type": "code",
      "source": [
        "# NY covid 19 deaths in last 30 days\n",
        "ny_death = ny.groupby(['date'])['deaths'].sum()\n",
        "ny_death.tail(30).sort_values(ascending = False)"
      ],
      "metadata": {
        "colab": {
          "base_uri": "https://localhost:8080/"
        },
        "id": "1I__yx8G_elY",
        "outputId": "2c2032c4-b2c9-45d4-92b7-c925a2dbae8c"
      },
      "execution_count": 33,
      "outputs": [
        {
          "output_type": "execute_result",
          "data": {
            "text/plain": [
              "date\n",
              "2022-01-21    62543.0\n",
              "2022-01-20    62319.0\n",
              "2022-01-19    62117.0\n",
              "2022-01-18    61859.0\n",
              "2022-01-17    61522.0\n",
              "2022-01-16    61259.0\n",
              "2022-01-15    61193.0\n",
              "2022-01-14    61099.0\n",
              "2022-01-13    60876.0\n",
              "2022-01-12    60638.0\n",
              "2022-01-11    60428.0\n",
              "2022-01-10    60162.0\n",
              "2022-01-09    60083.0\n",
              "2022-01-08    59913.0\n",
              "2022-01-07    59827.0\n",
              "2022-01-06    59631.0\n",
              "2022-01-05    59485.0\n",
              "2022-01-04    59339.0\n",
              "2022-01-03    59240.0\n",
              "2022-01-02    59152.0\n",
              "2022-01-01    59072.0\n",
              "2021-12-31    58993.0\n",
              "2021-12-30    58917.0\n",
              "2021-12-29    58820.0\n",
              "2021-12-28    58650.0\n",
              "2021-12-27    58604.0\n",
              "2021-12-26    58465.0\n",
              "2021-12-25    58422.0\n",
              "2021-12-24    58422.0\n",
              "2021-12-23    58373.0\n",
              "Name: deaths, dtype: float64"
            ]
          },
          "metadata": {},
          "execution_count": 33
        }
      ]
    },
    {
      "cell_type": "code",
      "source": [
        "ny_death = ny.groupby(['date'])['deaths'].sum()\n",
        "sns.lineplot(data = ny_death.tail(30))"
      ],
      "metadata": {
        "colab": {
          "base_uri": "https://localhost:8080/",
          "height": 296
        },
        "id": "vlPy5bRRQOXp",
        "outputId": "42e583d6-93bb-4175-ee07-8c46ae7c60ae"
      },
      "execution_count": 38,
      "outputs": [
        {
          "output_type": "execute_result",
          "data": {
            "text/plain": [
              "<matplotlib.axes._subplots.AxesSubplot at 0x7fafbae16650>"
            ]
          },
          "metadata": {},
          "execution_count": 38
        },
        {
          "output_type": "display_data",
          "data": {
            "image/png": "[encoded data removed]",
            "text/plain": [
              "<Figure size 432x288 with 1 Axes>"
            ]
          },
          "metadata": {
            "needs_background": "light"
          }
        }
      ]
    },
    {
      "cell_type": "markdown",
      "metadata": {
        "id": "PtjNZZmOdAhy"
      },
      "source": [
        "# Comparing Covid 19 data with different states"
      ]
    },
    {
      "cell_type": "code",
      "source": [
        "# total cases number in each state and sort them ascending\n",
        "import pandas as pd\n",
        "import seaborn as sns\n",
        "df = pd.read_csv('https://raw.githubusercontent.com/nytimes/covid-19-data/master/us-counties.csv')\n",
        "cases_sum = df.groupby(['state'])['cases'].sum().sort_values(ascending = False)\n",
        "print(cases_sum)\n"
      ],
      "metadata": {
        "id": "nbq9ZIsEMoAm",
        "colab": {
          "base_uri": "https://localhost:8080/"
        },
        "outputId": "8aa1096f-93e5-4ae7-9064-8d2bacdcec29"
      },
      "execution_count": 23,
      "outputs": [
        {
          "output_type": "stream",
          "name": "stdout",
          "text": [
            "state\n",
            "California                  1807135177\n",
            "Texas                       1464267980\n",
            "Florida                     1212257729\n",
            "New York                     989894439\n",
            "Illinois                     662031834\n",
            "Pennsylvania                 553021808\n",
            "Georgia                      551298108\n",
            "Ohio                         534572646\n",
            "North Carolina               492147608\n",
            "New Jersey                   467282449\n",
            "Michigan                     448681983\n",
            "Arizona                      429604087\n",
            "Tennessee                    424219551\n",
            "Indiana                      364622548\n",
            "Wisconsin                    331657405\n",
            "Massachusetts                329277535\n",
            "Virginia                     323673954\n",
            "Missouri                     308503710\n",
            "South Carolina               294736129\n",
            "Minnesota                    286259957\n",
            "Alabama                      280943205\n",
            "Louisiana                    260797243\n",
            "Colorado                     258949653\n",
            "Kentucky                     235529354\n",
            "Washington                   228221265\n",
            "Oklahoma                     221916495\n",
            "Maryland                     218453810\n",
            "Utah                         197737615\n",
            "Iowa                         182522310\n",
            "Arkansas                     176592201\n",
            "Mississippi                  170191758\n",
            "Nevada                       161162795\n",
            "Kansas                       157049518\n",
            "Connecticut                  156746552\n",
            "Nebraska                     108054989\n",
            "Oregon                       107312342\n",
            "New Mexico                    99764231\n",
            "Idaho                         96875429\n",
            "Puerto Rico                   83199033\n",
            "West Virginia                 80918550\n",
            "Rhode Island                  69640207\n",
            "South Dakota                  59221326\n",
            "Montana                       56211343\n",
            "North Dakota                  54322111\n",
            "Delaware                      51115336\n",
            "New Hampshire                 46062463\n",
            "Alaska                        38386061\n",
            "Maine                         31672894\n",
            "Wyoming                       31672062\n",
            "District of Columbia          25020136\n",
            "Hawaii                        23300143\n",
            "Vermont                       12357362\n",
            "Guam                           5743332\n",
            "Virgin Islands                 2163975\n",
            "Northern Mariana Islands        228767\n",
            "American Samoa                     127\n",
            "Name: cases, dtype: int64\n"
          ]
        }
      ]
    },
    {
      "cell_type": "code",
      "source": [
        "sns.lineplot(data = df.groupby(['state'])['cases'].sum())\n"
      ],
      "metadata": {
        "colab": {
          "base_uri": "https://localhost:8080/",
          "height": 307
        },
        "id": "_zZaMgOzQ09L",
        "outputId": "6f642662-f93a-469b-eb5c-81b4682fd0d6"
      },
      "execution_count": 39,
      "outputs": [
        {
          "output_type": "execute_result",
          "data": {
            "text/plain": [
              "<matplotlib.axes._subplots.AxesSubplot at 0x7fafbb1b4bd0>"
            ]
          },
          "metadata": {},
          "execution_count": 39
        },
        {
          "output_type": "display_data",
          "data": {
            "image/png": "[encoded data removed]",
            "text/plain": [
              "<Figure size 432x288 with 1 Axes>"
            ]
          },
          "metadata": {
            "needs_background": "light"
          }
        }
      ]
    },
    {
      "cell_type": "code",
      "source": [
        "deaths_sum = df.groupby(['state'])['deaths'].sum().sort_values(ascending = False)\n",
        "print(deaths_sum)"
      ],
      "metadata": {
        "colab": {
          "base_uri": "https://localhost:8080/"
        },
        "id": "3x6BBW5qMqBJ",
        "outputId": "850ed074-9cfb-4207-83de-6fa2344f65f2"
      },
      "execution_count": 24,
      "outputs": [
        {
          "output_type": "stream",
          "name": "stdout",
          "text": [
            "state\n",
            "New York                    28510825.0\n",
            "California                  27226412.0\n",
            "Texas                       24634299.0\n",
            "Florida                     19287164.0\n",
            "New Jersey                  13847257.0\n",
            "Pennsylvania                12824658.0\n",
            "Illinois                    12191648.0\n",
            "Michigan                     9931396.0\n",
            "Georgia                      9798129.0\n",
            "Massachusetts                9087252.0\n",
            "Ohio                         9028165.0\n",
            "Arizona                      8162600.0\n",
            "Indiana                      6491403.0\n",
            "North Carolina               6231112.0\n",
            "Tennessee                    5773426.0\n",
            "Louisiana                    5718424.0\n",
            "Alabama                      5206038.0\n",
            "Virginia                     5076531.0\n",
            "Missouri                     4736817.0\n",
            "South Carolina               4732691.0\n",
            "Maryland                     4592710.0\n",
            "Connecticut                  4294531.0\n",
            "Mississippi                  3698865.0\n",
            "Wisconsin                    3625861.0\n",
            "Minnesota                    3582984.0\n",
            "Colorado                     3381750.0\n",
            "Kentucky                     3241923.0\n",
            "Oklahoma                     3156205.0\n",
            "Washington                   3078131.0\n",
            "Arkansas                     2849868.0\n",
            "Iowa                         2743319.0\n",
            "Nevada                       2701617.0\n",
            "Kansas                       2287299.0\n",
            "New Mexico                   1925896.0\n",
            "Oregon                       1401948.0\n",
            "West Virginia                1353201.0\n",
            "Rhode Island                 1302206.0\n",
            "Puerto Rico                  1146267.0\n",
            "Nebraska                     1133401.0\n",
            "Utah                         1104903.0\n",
            "Idaho                        1100966.0\n",
            "South Dakota                  883918.0\n",
            "Delaware                      822198.0\n",
            "Montana                       772847.0\n",
            "North Dakota                  717379.0\n",
            "New Hampshire                 645726.0\n",
            "District of Columbia          575781.0\n",
            "Maine                         398265.0\n",
            "Wyoming                       370018.0\n",
            "Hawaii                        273068.0\n",
            "Alaska                        196758.0\n",
            "Vermont                       127552.0\n",
            "Guam                           77576.0\n",
            "Virgin Islands                 22019.0\n",
            "Northern Mariana Islands        1879.0\n",
            "American Samoa                     0.0\n",
            "Name: deaths, dtype: float64\n"
          ]
        }
      ]
    },
    {
      "cell_type": "markdown",
      "metadata": {
        "id": "Hwch-J5PIHA1"
      },
      "source": [
        "# Conclusion"
      ]
    },
    {
      "cell_type": "markdown",
      "metadata": {
        "id": "q5G5KP6CINBS"
      },
      "source": [
        "\n",
        "\n",
        "\n",
        "\n",
        "1.   Conclusion 1\n",
        "     --Below are the conclusions: California has the most COVID-19 cases, and New York has the most death cases in our country. \n",
        "2.   Conclusion 2\n",
        "     --Recently, the COVID-19 outbreak has made a comeback, and the number of cases in New York has increased dramatically every day.\n",
        "\n"
      ]
    },
    {
      "cell_type": "code",
      "metadata": {
        "id": "GCwtlBzLB9CU"
      },
      "source": [
        ""
      ],
      "execution_count": null,
      "outputs": []
    }
  ]
}