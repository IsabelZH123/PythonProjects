{
  "nbformat": 4,
  "nbformat_minor": 0,
  "metadata": {
    "colab": {
      "name": "unit2 miniprojects.ipynb",
      "provenance": [],
      "authorship_tag": "ABX9TyNo8umoJKWwTfJ1jCCDnquN",
      "include_colab_link": true
    },
    "kernelspec": {
      "name": "python3",
      "display_name": "Python 3"
    },
    "language_info": {
      "name": "python"
    }
  },
  "cells": [
    {
      "cell_type": "markdown",
      "metadata": {
        "id": "view-in-github",
        "colab_type": "text"
      },
      "source": [
        "<a href=\"https://colab.research.google.com/github/IsabelZH123/PythonProjects/blob/main/unit2_miniprojects.ipynb\" target=\"_parent\"><img src=\"https://colab.research.google.com/assets/colab-badge.svg\" alt=\"Open In Colab\"/></a>"
      ]
    },
    {
      "cell_type": "code",
      "execution_count": 5,
      "metadata": {
        "colab": {
          "base_uri": "https://localhost:8080/"
        },
        "id": "nt74x2nMFvPH",
        "outputId": "47344426-c2f8-4ab5-d432-7d95de447d41"
      },
      "outputs": [
        {
          "output_type": "stream",
          "name": "stdout",
          "text": [
            "Enter a number: 1\n",
            "1 is an odd number.\n"
          ]
        }
      ],
      "source": [
        "message = input(\"Enter a number: \")\n",
        "if int(message)%2 == 0 :\n",
        "  print(str(message) + \" is a even number.\" )\n",
        "else:\n",
        "  print(str(message) + \" is an odd number.\")\n"
      ]
    },
    {
      "cell_type": "code",
      "source": [
        "# bonus project (1)\n",
        "message = input(\"Enter a number: \")\n",
        "if int(message)%2 == 0 :\n",
        "  print(str(message) + \" is an even number.\" )\n",
        "  if int(message)%4 == 0:\n",
        "    print (str(message) + \" is a multiple of 4.\")\n",
        "else:\n",
        "  print(str(message) + \" is an odd number.\")"
      ],
      "metadata": {
        "colab": {
          "base_uri": "https://localhost:8080/"
        },
        "id": "oz0VGKXOHLU-",
        "outputId": "d9ab2cdd-a003-4f35-bf1a-21b12b5358dc"
      },
      "execution_count": 16,
      "outputs": [
        {
          "output_type": "stream",
          "name": "stdout",
          "text": [
            "Enter a number: 223\n",
            "223 is an odd number.\n"
          ]
        }
      ]
    },
    {
      "cell_type": "code",
      "source": [
        "# bonus project (2)\n",
        "check = input(\"Enter a number: \")\n",
        "num = input(\"Enter a second number: \")\n",
        "if int(num)%int(check) == 0 :\n",
        "  print(str(num) + \" can be divided evenly by \" + str(check) + \".\" )\n",
        "else:\n",
        "  print(str(num) + \" can not be divided evenly by \" + str(check) + \".\")"
      ],
      "metadata": {
        "colab": {
          "base_uri": "https://localhost:8080/"
        },
        "id": "Yt6Q1pZMICvE",
        "outputId": "5715105c-346f-4900-d8b7-136fd6f8638b"
      },
      "execution_count": 13,
      "outputs": [
        {
          "output_type": "stream",
          "name": "stdout",
          "text": [
            "Enter a number: 5\n",
            "Enter a second number: 36\n",
            "36 can not be divided evenly by 5.\n"
          ]
        }
      ]
    },
    {
      "cell_type": "code",
      "source": [
        "def even_or_odd(num):\n",
        "  if int(num)%2 == 0:\n",
        "    print(str(num) + \" is an even number.\")\n",
        "  else:\n",
        "    print(str(num) + \" is an odd number.\")\n",
        "\n",
        "message = input(\"Enter a number: \")\n",
        "even_or_odd(message)\n",
        "\n"
      ],
      "metadata": {
        "colab": {
          "base_uri": "https://localhost:8080/"
        },
        "id": "JDAI_3X1KWVy",
        "outputId": "687055c2-6252-4975-85a7-0855e1c6a3eb"
      },
      "execution_count": 15,
      "outputs": [
        {
          "output_type": "stream",
          "name": "stdout",
          "text": [
            "Enter a number: 4581\n",
            "4581 is an odd number.\n"
          ]
        }
      ]
    }
  ]
}