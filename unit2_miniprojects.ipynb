{
  "nbformat": 4,
  "nbformat_minor": 0,
  "metadata": {
    "colab": {
      "name": "unit2 miniprojects.ipynb",
      "provenance": [],
      "authorship_tag": "ABX9TyMsCscCvbcbgiMybVwU9zqE",
      "include_colab_link": true
    },
    "kernelspec": {
      "name": "python3",
      "display_name": "Python 3"
    },
    "language_info": {
      "name": "python"
    }
  },
  "cells": [
    {
      "cell_type": "markdown",
      "metadata": {
        "id": "view-in-github",
        "colab_type": "text"
      },
      "source": [
        "<a href=\"https://colab.research.google.com/github/IsabelZH123/PythonProjects/blob/main/unit2_miniprojects.ipynb\" target=\"_parent\"><img src=\"https://colab.research.google.com/assets/colab-badge.svg\" alt=\"Open In Colab\"/></a>"
      ]
    },
    {
      "cell_type": "code",
      "execution_count": 17,
      "metadata": {
        "colab": {
          "base_uri": "https://localhost:8080/"
        },
        "id": "nt74x2nMFvPH",
        "outputId": "2ab97e21-617f-421e-cd6e-849be4eae891"
      },
      "outputs": [
        {
          "output_type": "stream",
          "name": "stdout",
          "text": [
            "Enter a number: 23\n",
            "23 is an odd number.\n"
          ]
        }
      ],
      "source": [
        "# mini project\n",
        "message = input(\"Enter a number: \")\n",
        "if int(message)%2 == 0 :\n",
        "  print(str(message) + \" is a even number.\" )\n",
        "else:\n",
        "  print(str(message) + \" is an odd number.\")\n"
      ]
    },
    {
      "cell_type": "code",
      "source": [
        "# bonus project (1)\n",
        "message = input(\"Enter a number: \")\n",
        "if int(message)%2 == 0 :\n",
        "  print(str(message) + \" is an even number.\" )\n",
        "  if int(message)%4 == 0:\n",
        "    print (str(message) + \" also is a multiple of 4.\")\n",
        "  else:\n",
        "   print (\"But \" + str(message) + \" is not a multiple of 4.\") \n",
        "else:\n",
        "  print(str(message) + \" is an odd number.\")"
      ],
      "metadata": {
        "colab": {
          "base_uri": "https://localhost:8080/"
        },
        "id": "oz0VGKXOHLU-",
        "outputId": "97590010-6ccc-48b4-d295-517a67752d99"
      },
      "execution_count": 22,
      "outputs": [
        {
          "output_type": "stream",
          "name": "stdout",
          "text": [
            "Enter a number: 86\n",
            "86 is an even number.\n",
            "But 86 is not a multiple of 4.\n"
          ]
        }
      ]
    },
    {
      "cell_type": "code",
      "source": [
        "# bonus project (2)\n",
        "check = input(\"Enter a number: \")\n",
        "num = input(\"Enter a second number: \")\n",
        "if int(num)%int(check) == 0 :\n",
        "  print(str(num) + \" can be divided evenly by \" + str(check) + \".\" )\n",
        "else:\n",
        "  print(str(num) + \" can not be divided evenly by \" + str(check) + \".\")"
      ],
      "metadata": {
        "colab": {
          "base_uri": "https://localhost:8080/"
        },
        "id": "Yt6Q1pZMICvE",
        "outputId": "5715105c-346f-4900-d8b7-136fd6f8638b"
      },
      "execution_count": 13,
      "outputs": [
        {
          "output_type": "stream",
          "name": "stdout",
          "text": [
            "Enter a number: 5\n",
            "Enter a second number: 36\n",
            "36 can not be divided evenly by 5.\n"
          ]
        }
      ]
    },
    {
      "cell_type": "code",
      "source": [
        "def even_or_odd(num):\n",
        "  if int(num)%2 == 0:\n",
        "    print(str(num) + \" is an even number.\")\n",
        "  else:\n",
        "    print(str(num) + \" is an odd number.\")\n",
        "\n",
        "message = input(\"Enter a number: \")\n",
        "even_or_odd(message)\n",
        "\n"
      ],
      "metadata": {
        "colab": {
          "base_uri": "https://localhost:8080/"
        },
        "id": "JDAI_3X1KWVy",
        "outputId": "687055c2-6252-4975-85a7-0855e1c6a3eb"
      },
      "execution_count": 15,
      "outputs": [
        {
          "output_type": "stream",
          "name": "stdout",
          "text": [
            "Enter a number: 4581\n",
            "4581 is an odd number.\n"
          ]
        }
      ]
    }
  ]
}